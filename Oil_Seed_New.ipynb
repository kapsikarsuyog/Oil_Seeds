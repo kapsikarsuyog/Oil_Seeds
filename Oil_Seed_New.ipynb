{
 "cells": [
  {
   "cell_type": "code",
   "execution_count": 1,
   "id": "1e2f6102",
   "metadata": {},
   "outputs": [],
   "source": [
    "import pandas as pd\n",
    "import numpy as np\n",
    "import time\n",
    "from pulp import *"
   ]
  },
  {
   "cell_type": "code",
   "execution_count": 2,
   "id": "028d13ac",
   "metadata": {},
   "outputs": [],
   "source": [
    "distMat = pd.read_csv('Dist.csv',index_col='idx')\n",
    "processingTech = pd.read_csv('techs.csv',index_col='idx')\n",
    "extractionLevel = pd.read_csv('levels.csv',index_col='idx')"
   ]
  },
  {
   "cell_type": "code",
   "execution_count": 3,
   "id": "fd7779ef",
   "metadata": {},
   "outputs": [
    {
     "data": {
      "text/html": [
       "<div>\n",
       "<style scoped>\n",
       "    .dataframe tbody tr th:only-of-type {\n",
       "        vertical-align: middle;\n",
       "    }\n",
       "\n",
       "    .dataframe tbody tr th {\n",
       "        vertical-align: top;\n",
       "    }\n",
       "\n",
       "    .dataframe thead th {\n",
       "        text-align: right;\n",
       "    }\n",
       "</style>\n",
       "<table border=\"1\" class=\"dataframe\">\n",
       "  <thead>\n",
       "    <tr style=\"text-align: right;\">\n",
       "      <th></th>\n",
       "      <th>G1</th>\n",
       "      <th>G2</th>\n",
       "      <th>G3</th>\n",
       "      <th>G4</th>\n",
       "      <th>G5</th>\n",
       "      <th>G6</th>\n",
       "      <th>G7</th>\n",
       "      <th>G8</th>\n",
       "      <th>E1</th>\n",
       "      <th>E2</th>\n",
       "    </tr>\n",
       "    <tr>\n",
       "      <th>idx</th>\n",
       "      <th></th>\n",
       "      <th></th>\n",
       "      <th></th>\n",
       "      <th></th>\n",
       "      <th></th>\n",
       "      <th></th>\n",
       "      <th></th>\n",
       "      <th></th>\n",
       "      <th></th>\n",
       "      <th></th>\n",
       "    </tr>\n",
       "  </thead>\n",
       "  <tbody>\n",
       "    <tr>\n",
       "      <th>G1</th>\n",
       "      <td>0</td>\n",
       "      <td>200</td>\n",
       "      <td>450</td>\n",
       "      <td>450</td>\n",
       "      <td>200</td>\n",
       "      <td>400</td>\n",
       "      <td>150</td>\n",
       "      <td>250</td>\n",
       "      <td>300</td>\n",
       "      <td>600</td>\n",
       "    </tr>\n",
       "    <tr>\n",
       "      <th>G2</th>\n",
       "      <td>200</td>\n",
       "      <td>0</td>\n",
       "      <td>300</td>\n",
       "      <td>300</td>\n",
       "      <td>300</td>\n",
       "      <td>150</td>\n",
       "      <td>300</td>\n",
       "      <td>300</td>\n",
       "      <td>150</td>\n",
       "      <td>600</td>\n",
       "    </tr>\n",
       "    <tr>\n",
       "      <th>G3</th>\n",
       "      <td>450</td>\n",
       "      <td>300</td>\n",
       "      <td>0</td>\n",
       "      <td>50</td>\n",
       "      <td>300</td>\n",
       "      <td>100</td>\n",
       "      <td>450</td>\n",
       "      <td>200</td>\n",
       "      <td>200</td>\n",
       "      <td>700</td>\n",
       "    </tr>\n",
       "    <tr>\n",
       "      <th>G4</th>\n",
       "      <td>450</td>\n",
       "      <td>300</td>\n",
       "      <td>50</td>\n",
       "      <td>0</td>\n",
       "      <td>200</td>\n",
       "      <td>200</td>\n",
       "      <td>400</td>\n",
       "      <td>150</td>\n",
       "      <td>180</td>\n",
       "      <td>500</td>\n",
       "    </tr>\n",
       "    <tr>\n",
       "      <th>G5</th>\n",
       "      <td>200</td>\n",
       "      <td>300</td>\n",
       "      <td>300</td>\n",
       "      <td>200</td>\n",
       "      <td>0</td>\n",
       "      <td>400</td>\n",
       "      <td>200</td>\n",
       "      <td>100</td>\n",
       "      <td>300</td>\n",
       "      <td>500</td>\n",
       "    </tr>\n",
       "    <tr>\n",
       "      <th>G6</th>\n",
       "      <td>400</td>\n",
       "      <td>150</td>\n",
       "      <td>100</td>\n",
       "      <td>200</td>\n",
       "      <td>400</td>\n",
       "      <td>0</td>\n",
       "      <td>450</td>\n",
       "      <td>350</td>\n",
       "      <td>200</td>\n",
       "      <td>900</td>\n",
       "    </tr>\n",
       "    <tr>\n",
       "      <th>G7</th>\n",
       "      <td>150</td>\n",
       "      <td>300</td>\n",
       "      <td>450</td>\n",
       "      <td>400</td>\n",
       "      <td>200</td>\n",
       "      <td>450</td>\n",
       "      <td>0</td>\n",
       "      <td>300</td>\n",
       "      <td>400</td>\n",
       "      <td>800</td>\n",
       "    </tr>\n",
       "    <tr>\n",
       "      <th>G8</th>\n",
       "      <td>250</td>\n",
       "      <td>300</td>\n",
       "      <td>200</td>\n",
       "      <td>150</td>\n",
       "      <td>100</td>\n",
       "      <td>350</td>\n",
       "      <td>300</td>\n",
       "      <td>0</td>\n",
       "      <td>300</td>\n",
       "      <td>600</td>\n",
       "    </tr>\n",
       "    <tr>\n",
       "      <th>E1</th>\n",
       "      <td>999</td>\n",
       "      <td>999</td>\n",
       "      <td>999</td>\n",
       "      <td>999</td>\n",
       "      <td>999</td>\n",
       "      <td>999</td>\n",
       "      <td>999</td>\n",
       "      <td>999</td>\n",
       "      <td>0</td>\n",
       "      <td>600</td>\n",
       "    </tr>\n",
       "    <tr>\n",
       "      <th>E2</th>\n",
       "      <td>999</td>\n",
       "      <td>999</td>\n",
       "      <td>999</td>\n",
       "      <td>999</td>\n",
       "      <td>999</td>\n",
       "      <td>999</td>\n",
       "      <td>999</td>\n",
       "      <td>999</td>\n",
       "      <td>999</td>\n",
       "      <td>0</td>\n",
       "    </tr>\n",
       "  </tbody>\n",
       "</table>\n",
       "</div>"
      ],
      "text/plain": [
       "      G1   G2   G3   G4   G5   G6   G7   G8   E1   E2\n",
       "idx                                                  \n",
       "G1     0  200  450  450  200  400  150  250  300  600\n",
       "G2   200    0  300  300  300  150  300  300  150  600\n",
       "G3   450  300    0   50  300  100  450  200  200  700\n",
       "G4   450  300   50    0  200  200  400  150  180  500\n",
       "G5   200  300  300  200    0  400  200  100  300  500\n",
       "G6   400  150  100  200  400    0  450  350  200  900\n",
       "G7   150  300  450  400  200  450    0  300  400  800\n",
       "G8   250  300  200  150  100  350  300    0  300  600\n",
       "E1   999  999  999  999  999  999  999  999    0  600\n",
       "E2   999  999  999  999  999  999  999  999  999    0"
      ]
     },
     "execution_count": 3,
     "metadata": {},
     "output_type": "execute_result"
    }
   ],
   "source": [
    "distMat"
   ]
  },
  {
   "cell_type": "code",
   "execution_count": 4,
   "id": "faf4aeea",
   "metadata": {},
   "outputs": [
    {
     "data": {
      "text/html": [
       "<div>\n",
       "<style scoped>\n",
       "    .dataframe tbody tr th:only-of-type {\n",
       "        vertical-align: middle;\n",
       "    }\n",
       "\n",
       "    .dataframe tbody tr th {\n",
       "        vertical-align: top;\n",
       "    }\n",
       "\n",
       "    .dataframe thead th {\n",
       "        text-align: right;\n",
       "    }\n",
       "</style>\n",
       "<table border=\"1\" class=\"dataframe\">\n",
       "  <thead>\n",
       "    <tr style=\"text-align: right;\">\n",
       "      <th></th>\n",
       "      <th>capacity</th>\n",
       "      <th>fixedCost</th>\n",
       "      <th>runningCost</th>\n",
       "      <th>cruidOil</th>\n",
       "      <th>seedCake</th>\n",
       "      <th>oilInSeedCake</th>\n",
       "    </tr>\n",
       "    <tr>\n",
       "      <th>idx</th>\n",
       "      <th></th>\n",
       "      <th></th>\n",
       "      <th></th>\n",
       "      <th></th>\n",
       "      <th></th>\n",
       "      <th></th>\n",
       "    </tr>\n",
       "  </thead>\n",
       "  <tbody>\n",
       "    <tr>\n",
       "      <th>T1</th>\n",
       "      <td>6000</td>\n",
       "      <td>875000</td>\n",
       "      <td>500</td>\n",
       "      <td>250</td>\n",
       "      <td>750</td>\n",
       "      <td>7.5</td>\n",
       "    </tr>\n",
       "    <tr>\n",
       "      <th>T2</th>\n",
       "      <td>6000</td>\n",
       "      <td>500000</td>\n",
       "      <td>380</td>\n",
       "      <td>150</td>\n",
       "      <td>850</td>\n",
       "      <td>12.5</td>\n",
       "    </tr>\n",
       "    <tr>\n",
       "      <th>T3</th>\n",
       "      <td>12000</td>\n",
       "      <td>625000</td>\n",
       "      <td>320</td>\n",
       "      <td>166</td>\n",
       "      <td>834</td>\n",
       "      <td>16.0</td>\n",
       "    </tr>\n",
       "  </tbody>\n",
       "</table>\n",
       "</div>"
      ],
      "text/plain": [
       "     capacity  fixedCost  runningCost  cruidOil  seedCake  oilInSeedCake\n",
       "idx                                                                     \n",
       "T1       6000     875000          500       250       750            7.5\n",
       "T2       6000     500000          380       150       850           12.5\n",
       "T3      12000     625000          320       166       834           16.0"
      ]
     },
     "execution_count": 4,
     "metadata": {},
     "output_type": "execute_result"
    }
   ],
   "source": [
    "processingTech"
   ]
  },
  {
   "cell_type": "code",
   "execution_count": 5,
   "id": "3689fdf1",
   "metadata": {},
   "outputs": [
    {
     "data": {
      "text/html": [
       "<div>\n",
       "<style scoped>\n",
       "    .dataframe tbody tr th:only-of-type {\n",
       "        vertical-align: middle;\n",
       "    }\n",
       "\n",
       "    .dataframe tbody tr th {\n",
       "        vertical-align: top;\n",
       "    }\n",
       "\n",
       "    .dataframe thead th {\n",
       "        text-align: right;\n",
       "    }\n",
       "</style>\n",
       "<table border=\"1\" class=\"dataframe\">\n",
       "  <thead>\n",
       "    <tr style=\"text-align: right;\">\n",
       "      <th></th>\n",
       "      <th>capacity</th>\n",
       "      <th>fixedCost</th>\n",
       "      <th>runningCost</th>\n",
       "    </tr>\n",
       "    <tr>\n",
       "      <th>idx</th>\n",
       "      <th></th>\n",
       "      <th></th>\n",
       "      <th></th>\n",
       "    </tr>\n",
       "  </thead>\n",
       "  <tbody>\n",
       "    <tr>\n",
       "      <th>low</th>\n",
       "      <td>9000</td>\n",
       "      <td>625000</td>\n",
       "      <td>445</td>\n",
       "    </tr>\n",
       "    <tr>\n",
       "      <th>med</th>\n",
       "      <td>30000</td>\n",
       "      <td>1500000</td>\n",
       "      <td>415</td>\n",
       "    </tr>\n",
       "    <tr>\n",
       "      <th>high</th>\n",
       "      <td>150000</td>\n",
       "      <td>6000000</td>\n",
       "      <td>400</td>\n",
       "    </tr>\n",
       "  </tbody>\n",
       "</table>\n",
       "</div>"
      ],
      "text/plain": [
       "      capacity  fixedCost  runningCost\n",
       "idx                                   \n",
       "low       9000     625000          445\n",
       "med      30000    1500000          415\n",
       "high    150000    6000000          400"
      ]
     },
     "execution_count": 5,
     "metadata": {},
     "output_type": "execute_result"
    }
   ],
   "source": [
    "extractionLevel"
   ]
  },
  {
   "cell_type": "code",
   "execution_count": null,
   "id": "f5214087",
   "metadata": {},
   "outputs": [],
   "source": []
  },
  {
   "cell_type": "code",
   "execution_count": 6,
   "id": "d3f25705",
   "metadata": {},
   "outputs": [
    {
     "name": "stdout",
     "output_type": "stream",
     "text": [
      "['G1', 'G2', 'G3', 'G4', 'G5', 'G6', 'G7', 'G8']\n",
      "['T1', 'T2', 'T3']\n",
      "['low', 'med', 'high']\n",
      "['E1', 'E2']\n"
     ]
    }
   ],
   "source": [
    "growingAreas = list(distMat.index)[:-2]\n",
    "technologies = list(processingTech.index)\n",
    "levels = list(extractionLevel.index)\n",
    "extractionP = ['E1','E2']\n",
    "plant = ['E2']\n",
    "print(growingAreas)\n",
    "print(technologies)\n",
    "print(levels)\n",
    "print(extractionP)"
   ]
  },
  {
   "cell_type": "code",
   "execution_count": 7,
   "id": "46e0daff",
   "metadata": {},
   "outputs": [
    {
     "data": {
      "text/plain": [
       "875000"
      ]
     },
     "execution_count": 7,
     "metadata": {},
     "output_type": "execute_result"
    }
   ],
   "source": [
    "processingTech.loc['T1','fixedCost']"
   ]
  },
  {
   "cell_type": "code",
   "execution_count": 8,
   "id": "c059252e",
   "metadata": {},
   "outputs": [],
   "source": [
    "seed = LpVariable.dicts('seed',(growingAreas,growingAreas,technologies),lowBound=0,upBound=1500)\n",
    "plantInd = LpVariable.dicts('z',growingAreas,cat='Binary')\n",
    "plantTechInd = LpVariable.dicts('g',(growingAreas,technologies),cat='Binary')\n",
    "extractionInd = LpVariable.dicts('e',extractionP,cat='Binary')\n",
    "extractionLevelInd = LpVariable.dicts('e',(extractionP,levels),cat='Binary')\n",
    "cake = LpVariable.dicts('cake',(growingAreas,technologies,extractionP,levels),lowBound=0)\n",
    "oilPlant = LpVariable.dicts('oil1',(growingAreas,plant),lowBound=0)\n",
    "oilExtraction = LpVariable.dicts('oil2',(extractionP,plant),lowBound=0)\n",
    "totalOil = LpVariable('to',lowBound=0)\n",
    "cost = LpVariable('cost',lowBound=0)"
   ]
  },
  {
   "cell_type": "code",
   "execution_count": 9,
   "id": "6fb699cd",
   "metadata": {},
   "outputs": [],
   "source": [
    "scm = LpProblem('SCM',LpMaximize)"
   ]
  },
  {
   "cell_type": "code",
   "execution_count": null,
   "id": "6c16474d",
   "metadata": {},
   "outputs": [],
   "source": []
  },
  {
   "cell_type": "code",
   "execution_count": 10,
   "id": "6d2c7668",
   "metadata": {
    "scrolled": false
   },
   "outputs": [],
   "source": [
    "#Objective\n",
    "scm += lpSum(lpSum(seed[ga][ga1][t] for t in technologies)*distMat.loc[ga,ga1] for \n",
    "             ga in growingAreas for ga1 in growingAreas)\\\n",
    "+ lpSum(lpSum(plantTechInd[ga][t] for ga in growingAreas)*processingTech.loc[t,'fixedCost'] for t in technologies)\\\n",
    "+ lpSum(lpSum(seed[ga][ga1][t] for ga in growingAreas for ga1 in growingAreas)\n",
    "        *processingTech.loc[t,'runningCost'] for t in technologies)\\\n",
    "+ lpSum(oilPlant[ga][pl]*distMat.loc[ga,pl] for ga in growingAreas for pl in plant)\\\n",
    "+ lpSum(lpSum(cake[ga][t][e][l] for t in technologies for l in levels)*distMat.loc[ga,e] for \n",
    "        ga in growingAreas for e in extractionP)\\\n",
    "+ lpSum(lpSum(extractionLevelInd[e][l] for e in extractionP)*extractionLevel.loc[l,'fixedCost'] for l in levels)\\\n",
    "+ lpSum(lpSum(cake[ga][t][e][l] for ga in growingAreas for t in technologies for e in \n",
    "              extractionP)*extractionLevel.loc[l,'runningCost'] for l in levels)\\\n",
    "+lpSum(oilExtraction[e][p]*distMat.loc[e,p] for e in extractionP for p in plant)"
   ]
  },
  {
   "cell_type": "code",
   "execution_count": 11,
   "id": "39bfbe92",
   "metadata": {},
   "outputs": [],
   "source": [
    "for ga1 in growingAreas:\n",
    "    scm += lpSum(seed[ga][ga1][t] for ga in growingAreas for t in technologies) <= 1503*8*plantInd[ga1]\n",
    "    scm += lpSum(plantTechInd[ga1][t] for t in technologies) == plantInd[ga1]"
   ]
  },
  {
   "cell_type": "code",
   "execution_count": 12,
   "id": "1601eb1b",
   "metadata": {},
   "outputs": [],
   "source": [
    "for ga in growingAreas:\n",
    "    scm += lpSum(seed[ga][ga1][t] for ga1 in growingAreas for t in technologies) == 1500"
   ]
  },
  {
   "cell_type": "code",
   "execution_count": 13,
   "id": "7db6aec7",
   "metadata": {},
   "outputs": [],
   "source": [
    "for ga1 in growingAreas:\n",
    "    lpSum(seed[ga][ga1][t] for ga in growingAreas for t in technologies) <= lpSum(\n",
    "        plantTechInd[ga1][t]*processingTech.loc[t,'capacity'] for t in technologies)"
   ]
  },
  {
   "cell_type": "code",
   "execution_count": 14,
   "id": "9c110887",
   "metadata": {},
   "outputs": [],
   "source": [
    "for ga1 in growingAreas:\n",
    "    for ref in plant:\n",
    "        scm += oilPlant[ga1][ref] == lpSum(lpSum(seed[ga][ga1][t]*processingTech.loc[t,'cruidOil']/1000 for \n",
    "                                           t in technologies) for ga in growingAreas)"
   ]
  },
  {
   "cell_type": "code",
   "execution_count": 15,
   "id": "0e932701",
   "metadata": {},
   "outputs": [],
   "source": [
    "for ga1 in growingAreas:\n",
    "    for t in technologies:\n",
    "        scm += lpSum(cake[ga1][t][e][l] for e in extractionP for l in levels) == lpSum(\n",
    "            lpSum(seed[ga][ga1][t]*processingTech.loc[t,'seedCake']/1000) for ga in growingAreas)"
   ]
  },
  {
   "cell_type": "code",
   "execution_count": 16,
   "id": "17f7df5f",
   "metadata": {},
   "outputs": [],
   "source": [
    "for e in extractionP:\n",
    "    for ref in plant:\n",
    "        scm += oilExtraction[e][ref] == lpSum(cake[ga1][t][e][l]*processingTech.loc[t,'oilInSeedCake']/100 for ga1 \n",
    "                                              in growingAreas for t in technologies for l in levels)"
   ]
  },
  {
   "cell_type": "code",
   "execution_count": 17,
   "id": "643c6af3",
   "metadata": {},
   "outputs": [],
   "source": [
    "for e in extractionP:\n",
    "    for l in levels:\n",
    "        scm += lpSum(cake[ga1][t][e][l] for ga1 in growingAreas for t in technologies) <= \\\n",
    "        extractionLevelInd[e][l]*extractionLevel.loc[l,'capacity']"
   ]
  },
  {
   "cell_type": "code",
   "execution_count": 18,
   "id": "5be27d17",
   "metadata": {},
   "outputs": [],
   "source": [
    "for e in extractionP:\n",
    "    scm += extractionInd[e] == lpSum(extractionLevelInd[e][l] for l in levels)"
   ]
  },
  {
   "cell_type": "code",
   "execution_count": 19,
   "id": "27c1cb9d",
   "metadata": {},
   "outputs": [],
   "source": [
    "for e in extractionP:\n",
    "    scm += lpSum(cake[ga1][t][e][l] for ga1 in growingAreas for t in technologies for l in levels) <= 1503*8*extractionInd[e]"
   ]
  },
  {
   "cell_type": "code",
   "execution_count": 20,
   "id": "d30fbe5c",
   "metadata": {},
   "outputs": [],
   "source": [
    "for ga1 in growingAreas:\n",
    "    for t in technologies:\n",
    "        scm += lpSum(cake[ga1][t][e][l] for e in extractionP for l in levels) <= 1503*8*plantTechInd[ga1][t]"
   ]
  },
  {
   "cell_type": "code",
   "execution_count": 21,
   "id": "846bea59",
   "metadata": {},
   "outputs": [],
   "source": [
    "for ga1 in growingAreas:\n",
    "    scm += lpSum(oilPlant[ga1][ref] for ref in plant) <= 1503*8*plantInd[ga1]"
   ]
  },
  {
   "cell_type": "code",
   "execution_count": 22,
   "id": "04ff21ba",
   "metadata": {},
   "outputs": [],
   "source": [
    "#scm += extractionInd['E2']==1\n",
    "#scm += extractionInd['E1']==0\n",
    "#scm += totalOil == lpSum(oilPlant[ga1]['E2'] for ga1 in growingAreas) + lpSum(oilExtraction[e]['E2'] for e in extractionP)\n",
    "#scm += totalOil >= 3675"
   ]
  },
  {
   "cell_type": "code",
   "execution_count": 23,
   "id": "9f68ffb0",
   "metadata": {},
   "outputs": [
    {
     "name": "stdout",
     "output_type": "stream",
     "text": [
      "Welcome to the CBC MILP Solver \n",
      "Version: 2.10.5 \n",
      "Build Date: May 10 2021 \n",
      "\n",
      "command line - cbc /var/folders/sp/0pfsflvj2yb1cnz2gjryrtnh0000gn/T/d30dc907da504c10a81f473babaa9cc9-pulp.mps max branch printingOptions all solution /var/folders/sp/0pfsflvj2yb1cnz2gjryrtnh0000gn/T/d30dc907da504c10a81f473babaa9cc9-pulp.sol (default strategy 1)\n",
      "At line 2 NAME          MODEL\n",
      "At line 3 ROWS\n",
      "At line 105 COLUMNS\n",
      "At line 2155 RHS\n",
      "At line 2256 BOUNDS\n",
      "At line 2489 ENDATA\n",
      "Problem MODEL has 100 rows, 386 columns and 1594 elements\n",
      "Coin0008I MODEL read with 0 errors\n",
      "Continuous objective value is 4.36e+07 - 0.00 seconds\n",
      "Cgl0003I 0 fixed, 0 tightened bounds, 16 strengthened rows, 0 substitutions\n",
      "Cgl0003I 0 fixed, 0 tightened bounds, 16 strengthened rows, 0 substitutions\n",
      "Cgl0003I 0 fixed, 0 tightened bounds, 16 strengthened rows, 0 substitutions\n",
      "Cgl0004I processed model has 90 rows, 376 columns (40 integer (40 of which binary)) and 1480 elements\n",
      "Cbc0038I Initial state - 0 integers unsatisfied sum - 1.66533e-15\n",
      "Cbc0038I Solution found of -4.36e+07\n",
      "Cbc0038I Relaxing continuous gives -4.36e+07\n",
      "Cbc0038I Before mini branch and bound, 40 integers at bound fixed and 334 continuous\n",
      "Cbc0038I Mini branch and bound did not improve solution (0.01 seconds)\n",
      "Cbc0038I After 0.01 seconds - Feasibility pump exiting with objective of -4.36e+07 - took 0.00 seconds\n",
      "Cbc0012I Integer solution of -43600000 found by feasibility pump after 0 iterations and 0 nodes (0.01 seconds)\n",
      "Cbc0001I Search completed - best objective -43600000, took 0 iterations and 0 nodes (0.01 seconds)\n",
      "Cbc0035I Maximum depth 0, 0 variables fixed on reduced cost\n",
      "Cuts at root node changed objective from -4.36e+07 to -4.36e+07\n",
      "Probing was tried 0 times and created 0 cuts of which 0 were active after adding rounds of cuts (0.000 seconds)\n",
      "Gomory was tried 0 times and created 0 cuts of which 0 were active after adding rounds of cuts (0.000 seconds)\n",
      "Knapsack was tried 0 times and created 0 cuts of which 0 were active after adding rounds of cuts (0.000 seconds)\n",
      "Clique was tried 0 times and created 0 cuts of which 0 were active after adding rounds of cuts (0.000 seconds)\n",
      "MixedIntegerRounding2 was tried 0 times and created 0 cuts of which 0 were active after adding rounds of cuts (0.000 seconds)\n",
      "FlowCover was tried 0 times and created 0 cuts of which 0 were active after adding rounds of cuts (0.000 seconds)\n",
      "TwoMirCuts was tried 0 times and created 0 cuts of which 0 were active after adding rounds of cuts (0.000 seconds)\n",
      "ZeroHalf was tried 0 times and created 0 cuts of which 0 were active after adding rounds of cuts (0.000 seconds)\n",
      "\n",
      "Result - Optimal solution found\n",
      "\n",
      "Objective value:                43600000.00000000\n",
      "Enumerated nodes:               0\n",
      "Total iterations:               0\n",
      "Time (CPU seconds):             0.01\n",
      "Time (Wallclock seconds):       0.01\n",
      "\n",
      "Option for printingOptions changed from normal to all\n",
      "Total time (CPU seconds):       0.01   (Wallclock seconds):       0.01\n",
      "\n"
     ]
    },
    {
     "data": {
      "text/plain": [
       "1"
      ]
     },
     "execution_count": 23,
     "metadata": {},
     "output_type": "execute_result"
    }
   ],
   "source": [
    "scm.solve()"
   ]
  },
  {
   "cell_type": "code",
   "execution_count": 24,
   "id": "2bd35dbf",
   "metadata": {},
   "outputs": [
    {
     "name": "stdout",
     "output_type": "stream",
     "text": [
      "Processing plant is opened at G1 growing area\n",
      "Processing plant is opened at G2 growing area\n",
      "Processing plant is opened at G3 growing area\n",
      "Processing plant is opened at G4 growing area\n",
      "Processing plant is opened at G5 growing area\n",
      "Processing plant is opened at G6 growing area\n",
      "Processing plant is opened at G7 growing area\n",
      "Processing plant is opened at G8 growing area\n"
     ]
    }
   ],
   "source": [
    "for ga in growingAreas:\n",
    "    if plantInd[ga].varValue !=0:\n",
    "        print(f\"Processing plant is opened at {ga} growing area\")"
   ]
  },
  {
   "cell_type": "code",
   "execution_count": 25,
   "id": "5d2fc4c2",
   "metadata": {},
   "outputs": [
    {
     "name": "stdout",
     "output_type": "stream",
     "text": [
      "Processing plant is opened at growing area G1, working at technology T1\n",
      "Processing plant is opened at growing area G2, working at technology T1\n",
      "Processing plant is opened at growing area G3, working at technology T1\n",
      "Processing plant is opened at growing area G4, working at technology T1\n",
      "Processing plant is opened at growing area G5, working at technology T1\n",
      "Processing plant is opened at growing area G6, working at technology T1\n",
      "Processing plant is opened at growing area G7, working at technology T1\n",
      "Processing plant is opened at growing area G8, working at technology T1\n"
     ]
    }
   ],
   "source": [
    "for ga in growingAreas:\n",
    "    for t in technologies:\n",
    "        if plantTechInd[ga][t].varValue !=0:\n",
    "            print(f'Processing plant is opened at growing area {ga}, working at technology {t}')"
   ]
  },
  {
   "cell_type": "code",
   "execution_count": 26,
   "id": "77230b37",
   "metadata": {},
   "outputs": [
    {
     "name": "stdout",
     "output_type": "stream",
     "text": [
      "G1 Growing areas 1500.0 yeild is going to PP at G6 at tech T1\n",
      "G2 Growing areas 1500.0 yeild is going to PP at G7 at tech T1\n",
      "G3 Growing areas 1500.0 yeild is going to PP at G7 at tech T1\n",
      "G4 Growing areas 1500.0 yeild is going to PP at G7 at tech T1\n",
      "G5 Growing areas 1500.0 yeild is going to PP at G6 at tech T1\n",
      "G6 Growing areas 1500.0 yeild is going to PP at G7 at tech T1\n",
      "G7 Growing areas 1500.0 yeild is going to PP at G6 at tech T1\n",
      "G8 Growing areas 1500.0 yeild is going to PP at G6 at tech T1\n"
     ]
    }
   ],
   "source": [
    "for ga in growingAreas:\n",
    "    for ga1 in growingAreas:\n",
    "        for t in technologies:\n",
    "            if seed[ga][ga1][t].varValue !=0:\n",
    "                print(f'{ga} Growing areas {seed[ga][ga1][t].varValue} yeild is going to PP at {ga1} at tech {t}')"
   ]
  },
  {
   "cell_type": "code",
   "execution_count": 27,
   "id": "7e211b1d",
   "metadata": {},
   "outputs": [
    {
     "name": "stdout",
     "output_type": "stream",
     "text": [
      "extraction plant E1 is opened at level high\n",
      "extraction plant E2 is opened at level high\n"
     ]
    }
   ],
   "source": [
    "for e in extractionP:\n",
    "    for l in levels:\n",
    "        if extractionLevelInd[e][l].varValue !=0:\n",
    "            print(f'extraction plant {e} is opened at level {l}')"
   ]
  },
  {
   "cell_type": "code",
   "execution_count": 28,
   "id": "80aa2c81",
   "metadata": {},
   "outputs": [
    {
     "name": "stdout",
     "output_type": "stream",
     "text": [
      "Seed Cake 4500.0 is sent from PP G6 at tech T1 to EP E2 at level high\n",
      "Seed Cake 4500.0 is sent from PP G7 at tech T1 to EP E2 at level high\n"
     ]
    }
   ],
   "source": [
    "for ga1 in growingAreas:\n",
    "    for t in technologies:\n",
    "        for e in extractionP:\n",
    "            for l in levels:\n",
    "                if cake[ga1][t][e][l].varValue !=0:\n",
    "                    print(f'Seed Cake {cake[ga1][t][e][l].varValue} is sent from PP {ga1} at tech {t} to EP {e} at level {l}')"
   ]
  },
  {
   "cell_type": "code",
   "execution_count": 29,
   "id": "2e44fe18",
   "metadata": {},
   "outputs": [
    {
     "data": {
      "text/plain": [
       "1"
      ]
     },
     "execution_count": 29,
     "metadata": {},
     "output_type": "execute_result"
    }
   ],
   "source": [
    "scm.isMIP()"
   ]
  },
  {
   "cell_type": "code",
   "execution_count": 30,
   "id": "73c36f51",
   "metadata": {},
   "outputs": [
    {
     "data": {
      "text/plain": [
       "'_C101'"
      ]
     },
     "execution_count": 30,
     "metadata": {},
     "output_type": "execute_result"
    }
   ],
   "source": [
    "scm.unusedConstraintName()"
   ]
  },
  {
   "cell_type": "code",
   "execution_count": 31,
   "id": "748a88fb",
   "metadata": {},
   "outputs": [
    {
     "data": {
      "text/plain": [
       "3675.0"
      ]
     },
     "execution_count": 31,
     "metadata": {},
     "output_type": "execute_result"
    }
   ],
   "source": [
    "total_oil = 0\n",
    "for ga1 in growingAreas:\n",
    "    for ref in plant:\n",
    "        total_oil += oilPlant[ga1][ref].varValue\n",
    "for e in extractionP:\n",
    "    for ref in plant:\n",
    "        total_oil += oilExtraction[e][ref].varValue\n",
    "total_oil"
   ]
  },
  {
   "cell_type": "code",
   "execution_count": null,
   "id": "2c2db74f",
   "metadata": {},
   "outputs": [],
   "source": []
  },
  {
   "cell_type": "code",
   "execution_count": null,
   "id": "9d3d5fee",
   "metadata": {},
   "outputs": [],
   "source": []
  }
 ],
 "metadata": {
  "kernelspec": {
   "display_name": "Python 3 (ipykernel)",
   "language": "python",
   "name": "python3"
  },
  "language_info": {
   "codemirror_mode": {
    "name": "ipython",
    "version": 3
   },
   "file_extension": ".py",
   "mimetype": "text/x-python",
   "name": "python",
   "nbconvert_exporter": "python",
   "pygments_lexer": "ipython3",
   "version": "3.8.10"
  }
 },
 "nbformat": 4,
 "nbformat_minor": 5
}
